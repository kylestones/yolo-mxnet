{
 "cells": [
  {
   "cell_type": "code",
   "execution_count": null,
   "metadata": {},
   "outputs": [],
   "source": [
    "%matplotlib inline"
   ]
  },
  {
   "cell_type": "markdown",
   "metadata": {},
   "source": [
    "7. Train YOLOv3 on PASCAL VOC\n",
    "================================\n",
    "\n",
    "This tutorial goes through the basic steps of training a YOLOv3 object detection model\n",
    "provided by GluonCV.\n",
    "\n",
    "Specifically, we show how to build a state-of-the-art YOLOv3 model by stacking GluonCV components.\n",
    "\n",
    "\n",
    ".. hint::\n",
    "\n",
    "    You can skip the rest of this tutorial and start training your YOLOv3 model\n",
    "    right away by downloading this script:\n",
    "\n",
    "    :download:`Download train_yolo3.py<../../../scripts/detection/yolo/train_yolo3.py>`\n",
    "    Random shape training requires more GPU memory but generates better results. You can turn it off by setting `--no-random-shape`.\n",
    "\n",
    "    Example usage:\n",
    "\n",
    "    Train a default darknet53 model with Pascal VOC on GPU 0:\n",
    "\n",
    "    .. code-block:: bash\n",
    "\n",
    "        python train_yolo3.py --gpus 0\n",
    "\n",
    "    Train a darknet53 model on GPU 0,1,2,3 with synchronize BatchNorm:\n",
    "\n",
    "    .. code-block:: bash\n",
    "\n",
    "        python train_yolo3.py --gpus 0,1,2,3 --network darknet53 --syncbn\n",
    "\n",
    "    Check the supported arguments:\n",
    "\n",
    "    .. code-block:: bash\n",
    "\n",
    "        python train_yolo3.py --help\n",
    "\n",
    "\n",
    ".. hint::\n",
    "\n",
    "    Since lots of contents in this tutorial is very similar to :doc:`./train_ssd_voc`, you can skip any part\n",
    "    if you feel comfortable.\n",
    "\n",
    "\n"
   ]
  },
  {
   "cell_type": "markdown",
   "metadata": {},
   "source": [
    "Dataset\n",
    "-------\n",
    "\n",
    "Please first go through this `sphx_glr_build_examples_datasets_pascal_voc.py` tutorial to setup Pascal\n",
    "VOC dataset on your disk.\n",
    "Then, we are ready to load training and validation images.\n",
    "\n"
   ]
  },
  {
   "cell_type": "code",
   "execution_count": null,
   "metadata": {},
   "outputs": [],
   "source": [
    "import gluoncv as gcv\n",
    "from gluoncv.data import VOCDetection\n"
   ]
  },
  {
   "cell_type": "code",
   "execution_count": null,
   "metadata": {},
   "outputs": [],
   "source": [
    "# typically we use 2007+2012 trainval splits for training data\n",
    "train_dataset = VOCDetection(root='/home/kyle/data/VOC/VOCdevkit/', splits=[(2007, 'trainval')])#, (2012, 'trainval')])\n",
    "# and use 2007 test as validation data\n",
    "val_dataset = VOCDetection(root='/home/kyle/data/VOC/VOCdevkit/', splits=[(2007, 'test')])\n",
    "\n",
    "print('Training images:', len(train_dataset))\n",
    "print('Validation images:', len(val_dataset))"
   ]
  },
  {
   "cell_type": "markdown",
   "metadata": {},
   "source": [
    "train_dataset 是 VOCDetection 类的一个实例，提供 get_item 的方法获取对应索引的图片和标签；\n",
    "\n",
    "VOCDetection label 格式 (xmin, ymin, xmax, ymax, cls_id, difficlut)"
   ]
  },
  {
   "cell_type": "code",
   "execution_count": null,
   "metadata": {},
   "outputs": [],
   "source": [
    "train_image, train_label = train_dataset[0]\n"
   ]
  },
  {
   "cell_type": "markdown",
   "metadata": {},
   "source": [
    "Data transform\n",
    "--------------\n",
    "We can read an image-label pair from the training dataset:\n",
    "\n"
   ]
  },
  {
   "cell_type": "code",
   "execution_count": null,
   "metadata": {},
   "outputs": [],
   "source": [
    "train_image, train_label = train_dataset[2]\n",
    "bboxes = train_label[:, :4]\n",
    "cids = train_label[:, 4:5]\n",
    "print('image:', train_image.shape)\n",
    "print('bboxes:', bboxes.shape, 'class ids:', cids.shape)"
   ]
  },
  {
   "cell_type": "code",
   "execution_count": null,
   "metadata": {},
   "outputs": [],
   "source": [
    "print(\"train_label: %d\" % len(train_label))\n",
    "print(train_label)"
   ]
  },
  {
   "cell_type": "code",
   "execution_count": null,
   "metadata": {},
   "outputs": [],
   "source": [
    "print((train_dataset[60][1]))"
   ]
  },
  {
   "cell_type": "markdown",
   "metadata": {},
   "source": [
    "Plot the image, together with the bounding box labels:\n",
    "\n"
   ]
  },
  {
   "cell_type": "code",
   "execution_count": null,
   "metadata": {},
   "outputs": [],
   "source": [
    "from matplotlib import pyplot as plt\n",
    "from gluoncv.utils import viz\n",
    "\n",
    "ax = viz.plot_bbox(train_image.asnumpy(), bboxes, labels=cids, class_names=train_dataset.classes)\n",
    "plt.show()"
   ]
  },
  {
   "cell_type": "markdown",
   "metadata": {},
   "source": [
    "Validation images are quite similar to training because they were\n",
    "basically split randomly to different sets\n",
    "\n"
   ]
  },
  {
   "cell_type": "code",
   "execution_count": null,
   "metadata": {},
   "outputs": [],
   "source": [
    "val_image, val_label = val_dataset[2112]\n",
    "bboxes = val_label[:, :4]\n",
    "cids = val_label[:, 4:5]\n",
    "ax = viz.plot_bbox(val_image.asnumpy(), bboxes, labels=cids, class_names=train_dataset.classes)\n",
    "plt.show()"
   ]
  },
  {
   "cell_type": "markdown",
   "metadata": {},
   "source": [
    "For YOLOv3 networks, we apply similar transforms to SSD example.\n",
    "\n"
   ]
  },
  {
   "cell_type": "code",
   "execution_count": null,
   "metadata": {},
   "outputs": [],
   "source": [
    "from gluoncv.data.transforms import presets\n",
    "from gluoncv import utils\n",
    "from mxnet import nd"
   ]
  },
  {
   "cell_type": "code",
   "execution_count": null,
   "metadata": {},
   "outputs": [],
   "source": [
    "width, height = 416, 416  # resize image to 416x416 after all data augmentation\n",
    "train_transform = presets.yolo.YOLO3DefaultTrainTransform(width, height)\n",
    "val_transform = presets.yolo.YOLO3DefaultValTransform(width, height)"
   ]
  },
  {
   "cell_type": "code",
   "execution_count": null,
   "metadata": {},
   "outputs": [],
   "source": [
    "utils.random.seed(123)  # fix seed in this tutorial"
   ]
  },
  {
   "cell_type": "markdown",
   "metadata": {},
   "source": [
    "apply transforms to train image\n",
    "\n"
   ]
  },
  {
   "cell_type": "code",
   "execution_count": null,
   "metadata": {},
   "outputs": [],
   "source": [
    "train_image2, train_label2 = train_transform(train_image, train_label)\n",
    "print('tensor shape:', train_image2.shape)"
   ]
  },
  {
   "cell_type": "code",
   "execution_count": null,
   "metadata": {},
   "outputs": [],
   "source": []
  },
  {
   "cell_type": "markdown",
   "metadata": {},
   "source": [
    "Images in tensor are distorted because they no longer sit in (0, 255) range.\n",
    "Let's convert them back so we can see them clearly.\n",
    "\n"
   ]
  },
  {
   "cell_type": "code",
   "execution_count": null,
   "metadata": {},
   "outputs": [],
   "source": [
    "train_image2 = train_image2.transpose((1, 2, 0)) * nd.array((0.229, 0.224, 0.225)) + nd.array((0.485, 0.456, 0.406))\n",
    "train_image2 = (train_image2 * 255).clip(0, 255)\n",
    "ax = viz.plot_bbox(train_image2.asnumpy(), train_label2[:, :4],\n",
    "                   labels=train_label2[:, 4:5],\n",
    "                   class_names=train_dataset.classes)\n",
    "plt.show()"
   ]
  },
  {
   "cell_type": "markdown",
   "metadata": {},
   "source": [
    "Transforms used in training include random color distortion, random expand/crop, random flipping,\n",
    "resizing and fixed color normalization.\n",
    "In comparison, validation only involves resizing and color normalization.\n",
    "\n"
   ]
  },
  {
   "cell_type": "markdown",
   "metadata": {},
   "source": [
    "Data Loader\n",
    "-----------\n",
    "We will iterate through the entire dataset many times during training.\n",
    "Keep in mind that raw images have to be transformed to tensors\n",
    "(mxnet uses BCHW format) before they are fed into neural networks.\n",
    "\n",
    "A handy DataLoader would be very convenient for us to apply different transforms and aggregate data into mini-batches.\n",
    "\n",
    "Because the number of objects varys a lot across images, we also have\n",
    "varying label sizes. As a result, we need to pad those labels to the same size.\n",
    "To deal with this problem, GluonCV provides :py:class:`gluoncv.data.batchify.Pad`,\n",
    "which handles padding automatically.\n",
    ":py:class:`gluoncv.data.batchify.Stack` in addition, is used to stack NDArrays with consistent shapes.\n",
    ":py:class:`gluoncv.data.batchify.Tuple` is used to handle different behaviors across multiple outputs from transform functions.\n",
    "\n"
   ]
  },
  {
   "cell_type": "code",
   "execution_count": null,
   "metadata": {},
   "outputs": [],
   "source": [
    "from gluoncv.data.batchify import Tuple, Stack, Pad\n",
    "from mxnet.gluon.data import DataLoader\n",
    "\n",
    "batch_size = 16  # for tutorial, we use smaller batch-size\n",
    "num_workers = 0  # you can make it larger(if your CPU has more cores) to accelerate data loading\n",
    "\n",
    "# behavior of batchify_fn: stack images, and pad labels\n",
    "batchify_fn = Tuple(Stack(), Pad(pad_val=-1))\n",
    "#batchify_fn = Tuple(*([Stack() for _ in range(6)] + [Pad(axis=0, pad_val=-1) for _ in range(1)]))\n",
    "\n",
    "train_loader = DataLoader(train_dataset.transform(train_transform), batch_size, shuffle=True,\n",
    "                          batchify_fn=batchify_fn, last_batch='rollover', num_workers=num_workers)\n",
    "val_loader = DataLoader(val_dataset.transform(val_transform), batch_size, shuffle=False,\n",
    "                        batchify_fn=batchify_fn, last_batch='keep', num_workers=num_workers)\n",
    "\n"
   ]
  },
  {
   "cell_type": "code",
   "execution_count": null,
   "metadata": {},
   "outputs": [],
   "source": [
    "train_dataset.transform(train_transform)"
   ]
  },
  {
   "cell_type": "code",
   "execution_count": null,
   "metadata": {},
   "outputs": [],
   "source": [
    "for ib, batch in enumerate(train_loader):\n",
    "    if ib > 0:\n",
    "        break\n",
    "    print(len(batch), batch[0].shape, batch[1].shape)\n",
    "    print('data 0:', batch[0][0].shape, 'label 0:', batch[1][0].shape, batch[1][0])\n",
    "    print('data 1:', batch[0][1].shape, 'label 1:', batch[1][1].shape, batch[1][1])\n",
    "    print('data 2:', batch[0][2].shape, 'label 2:', batch[1][2].shape, batch[1][2])"
   ]
  },
  {
   "cell_type": "markdown",
   "metadata": {},
   "source": [
    "YOLOv3 Network\n",
    "-------------------\n",
    "GluonCV's YOLOv3 implementation is a composite Gluon HybridBlock.\n",
    "In terms of structure, YOLOv3 networks are composed of base feature extraction\n",
    "network, convolutional transition layers, upsampling layers, and specially designed YOLOv3 output layers.\n",
    "\n",
    "We highly recommend you to read the original paper to learn more about the ideas\n",
    "behind YOLO [YOLOv3]_.\n",
    "\n",
    "`Gluon Model Zoo <../../model_zoo/index.html>`__ has a few built-in YOLO networks, more on the way.\n",
    "You can load your favorite one with one simple line of code:\n",
    "\n",
    ".. hint::\n",
    "\n",
    "   To avoid downloading models in this tutorial, we set `pretrained_base=False`,\n",
    "   in practice we usually want to load pre-trained imagenet models by setting\n",
    "   `pretrained_base=True`.\n",
    "\n"
   ]
  },
  {
   "cell_type": "code",
   "execution_count": null,
   "metadata": {},
   "outputs": [],
   "source": [
    "from gluoncv import model_zoo\n",
    "net = model_zoo.get_model('yolo3_darknet53_voc', pretrained_base=True)\n",
    "#net.initialize()\n"
   ]
  },
  {
   "cell_type": "code",
   "execution_count": null,
   "metadata": {},
   "outputs": [],
   "source": [
    "net??"
   ]
  },
  {
   "cell_type": "markdown",
   "metadata": {},
   "source": [
    "YOLOv3 network is callable with image tensor\n",
    "\n"
   ]
  },
  {
   "cell_type": "code",
   "execution_count": null,
   "metadata": {},
   "outputs": [],
   "source": [
    "import mxnet as mx\n",
    "x = mx.nd.zeros(shape=(1, 3, 416, 416))\n",
    "\n",
    "cids, scores, bboxes = net(x)"
   ]
  },
  {
   "cell_type": "markdown",
   "metadata": {},
   "source": [
    "YOLOv3 returns three values, where ``cids`` are the class labels,\n",
    "``scores`` are confidence scores of each prediction,\n",
    "and ``bboxes`` are absolute coordinates of corresponding bounding boxes.\n",
    "\n"
   ]
  },
  {
   "cell_type": "markdown",
   "metadata": {},
   "source": [
    "Training targets\n",
    "----------------\n",
    "There are four losses involved in end-to-end YOLOv3 training.\n",
    "the loss to penalize incorrect class/box prediction, and is defined in :py:class:`gluoncv.loss.YOLOV3Loss`\n",
    "\n"
   ]
  },
  {
   "cell_type": "code",
   "execution_count": null,
   "metadata": {},
   "outputs": [],
   "source": [
    "loss = gcv.loss.YOLOV3Loss()\n",
    "\n",
    "# which is already included in YOLOv3 network\n",
    "#print(net._loss)"
   ]
  },
  {
   "cell_type": "code",
   "execution_count": null,
   "metadata": {},
   "outputs": [],
   "source": [
    "loss??"
   ]
  },
  {
   "cell_type": "code",
   "execution_count": null,
   "metadata": {},
   "outputs": [],
   "source": [
    "#loss??\n",
    "\n",
    "from mxnet import gluon\n",
    "\n",
    "def test():\n",
    "    r\"\"\"Calculates the mean absolute error between `pred` and `label`.\n",
    "\n",
    "    .. math:: L = \\sum_i \\vert {pred}_i - {label}_i \\vert.\n",
    "\n",
    "    `pred` and `label` can have arbitrary shape as long as they have the same\n",
    "    number of elements.\n",
    "\n",
    "    Parameters\n",
    "    \"\"\"\n",
    "# targets\n",
    "sigmoid_ce = gluon.loss.SigmoidBinaryCrossEntropyLoss(from_sigmoid=False)\n",
    "l1_loss = gluon.loss.L1Loss()\n",
    "\n",
    "sigmoid_ce??"
   ]
  },
  {
   "cell_type": "markdown",
   "metadata": {},
   "source": [
    "            obj_loss: sum of objectness logistic loss\n",
    "            center_loss: sum of box center logistic regression loss\n",
    "            scale_loss: sum of box scale l1 loss\n",
    "            cls_loss: sum of per class logistic loss"
   ]
  },
  {
   "cell_type": "markdown",
   "metadata": {},
   "source": [
    "To speed up training, we let CPU to pre-compute some training targets (similar to SSD example).\n",
    "This is especially nice when your CPU is powerful and you can use ``-j num_workers``\n",
    "to utilize multi-core CPU.\n",
    "\n"
   ]
  },
  {
   "cell_type": "markdown",
   "metadata": {},
   "source": [
    "If we provide network to the training transform function, it will compute partial training targets\n",
    "\n"
   ]
  },
  {
   "cell_type": "code",
   "execution_count": null,
   "metadata": {},
   "outputs": [],
   "source": [
    "from mxnet import autograd\n",
    "\n",
    "width, height = 416, 416  # resize image to 416x416 after all data augmentation\n",
    "# 内存泄露？？？每次运行都会耗费很多内存\n",
    "train_transform = presets.yolo.YOLO3DefaultTrainTransform(width, height, net)"
   ]
  },
  {
   "cell_type": "code",
   "execution_count": null,
   "metadata": {},
   "outputs": [],
   "source": [
    "train_transform??"
   ]
  },
  {
   "cell_type": "code",
   "execution_count": null,
   "metadata": {},
   "outputs": [],
   "source": [
    "from gluoncv.model_zoo import yolo_target\n",
    "yolo_target??"
   ]
  },
  {
   "cell_type": "code",
   "execution_count": null,
   "metadata": {},
   "outputs": [],
   "source": [
    "from gluoncv.data.batchify import Tuple, Stack, Pad\n",
    "from mxnet.gluon.data import DataLoader\n",
    "\n",
    "batch_size = 128\n",
    "num_workers = 4\n",
    "\n",
    "# return stacked images, center_targets, scale_targets, gradient weights, objectness_targets, class_targets\n",
    "# additionally, return padded ground truth bboxes, so there are 7 components returned by dataloader\n",
    "batchify_fn = Tuple(*([Stack() for _ in range(6)] + [Pad(axis=0, pad_val=-1) for _ in range(1)]))\n",
    "train_loader = DataLoader(train_dataset.transform(train_transform), batch_size, shuffle=True,\n",
    "                          batchify_fn=batchify_fn, last_batch='rollover', num_workers=num_workers)\n",
    "\n"
   ]
  },
  {
   "cell_type": "code",
   "execution_count": null,
   "metadata": {},
   "outputs": [],
   "source": [
    "from gluoncv.model_zoo.yolo.yolo_target import YOLOV3PrefetchTargetGenerator\n",
    "YOLOV3PrefetchTargetGenerator??"
   ]
  },
  {
   "cell_type": "code",
   "execution_count": null,
   "metadata": {},
   "outputs": [],
   "source": [
    "batchimg = []\n",
    "blabel = []\n",
    "for ib, batch in enumerate(train_loader):\n",
    "    if ib > 0:\n",
    "        break\n",
    "    \n",
    "    print('batch:', len(batch))\n",
    "    print('data[0]:', batch[0].shape)\n",
    "    print('data:', batch[0][0].shape)\n",
    "    batchimg = batch[0][0]\n",
    "    blabel = batch\n",
    "    print('label1:', batch[1][0].shape)\n",
    "    print('label2:', batch[2][0].shape)\n",
    "    print('label3:', batch[3][0].shape)\n",
    "    print('label4:', batch[4][0].shape)\n",
    "    print('label5:', batch[5][0].shape)\n",
    "    print('label6:', batch[6][0].shape)\n",
    "    print('label6:', batch[6][0])"
   ]
  },
  {
   "cell_type": "code",
   "execution_count": null,
   "metadata": {},
   "outputs": [],
   "source": [
    "train_image2 = train_image2.transpose((1, 2, 0)) * nd.array((0.229, 0.224, 0.225)) + nd.array((0.485, 0.456, 0.406))\n",
    "train_image2 = (train_image2 * 255).clip(0, 255)\n",
    "ax = viz.plot_bbox(train_image2.asnumpy(), train_label2[:, :4],\n",
    "                   labels=train_label2[:, 4:5],\n",
    "                   class_names=train_dataset.classes)\n",
    "plt.show()"
   ]
  },
  {
   "cell_type": "code",
   "execution_count": null,
   "metadata": {},
   "outputs": [],
   "source": [
    "print(blabel)"
   ]
  },
  {
   "cell_type": "code",
   "execution_count": null,
   "metadata": {},
   "outputs": [],
   "source": [
    "img = batchimg.transpose((1,2,0)) * nd.array((0.229,0.224,0.225)) + nd.array((0.485,0.456,0.406))\n",
    "img = (img * 255).clip(0,255)\n",
    "\n",
    "ax = viz.plot_bbox(img.asnumpy(), train_label[:, :4],\n",
    "                   labels=train_label[:, 4:5],\n",
    "                   class_names=train_dataset.classes)\n",
    "plt.show()"
   ]
  },
  {
   "cell_type": "code",
   "execution_count": null,
   "metadata": {},
   "outputs": [],
   "source": [
    "for ib, batch in enumerate(train_loader):\n",
    "    if ib > 0:\n",
    "        break\n",
    "    print('data:', batch[0][0].shape)\n",
    "    print('label:', batch[6][0].shape)\n",
    "    with autograd.record():\n",
    "        input_order = [0, 6, 1, 2, 3, 4, 5]\n",
    "        obj_loss, center_loss, scale_loss, cls_loss = net(*[batch[o] for o in input_order])\n",
    "        # sum up the losses\n",
    "        # some standard gluon training steps:\n",
    "        # autograd.backward(sum_loss)\n",
    "        # trainer.step(batch_size)"
   ]
  },
  {
   "cell_type": "markdown",
   "metadata": {},
   "source": [
    "This time we can see the data loader is actually returning the training targets for us.\n",
    "Then it is very naturally a gluon training loop with Trainer and let it update the weights.\n",
    "\n",
    ".. hint::\n",
    "\n",
    "  Please checkout the full :download:`training script <../../../scripts/detection/yolo/train_yolo3.py>` for complete implementation.\n",
    "\n"
   ]
  },
  {
   "cell_type": "markdown",
   "metadata": {},
   "source": [
    "References\n",
    "----------\n",
    "\n",
    ".. [YOLOv3] Redmon, Joseph, and Ali Farhadi. \"Yolov3: An incremental improvement.\" arXiv preprint arXiv:1804.02767 (2018).\n",
    "\n"
   ]
  }
 ],
 "metadata": {
  "kernelspec": {
   "display_name": "Python 3",
   "language": "python",
   "name": "python3"
  },
  "language_info": {
   "codemirror_mode": {
    "name": "ipython",
    "version": 3
   },
   "file_extension": ".py",
   "mimetype": "text/x-python",
   "name": "python",
   "nbconvert_exporter": "python",
   "pygments_lexer": "ipython3",
   "version": "3.6.8"
  }
 },
 "nbformat": 4,
 "nbformat_minor": 1
}
